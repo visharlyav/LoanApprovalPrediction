{
 "cells": [
  {
   "cell_type": "code",
   "execution_count": 1,
   "metadata": {},
   "outputs": [],
   "source": [
    "import pandas as pd\n",
    "sampled_data = pd.read_csv('sex_dataset.csv')\n",
    "\n",
    "female_approved_mask = (sampled_data['derived_sex'] == 0.0) & (sampled_data['action_taken'] == 1.0)\n",
    "\n",
    "# Calculate 15% of these entries to change to 'Denied'\n",
    "num_to_change = int(np.ceil(black_approved_mask.sum() * 0.20))\n",
    "\n",
    "# Randomly select 15% of these entries and change their 'action_taken' status to 'Denied'\n",
    "change_indices = race_dataset[female_approved_mask].sample(n=num_to_change, random_state=42).index\n",
    "race_dataset.loc[change_indices, 'action_taken'] = 0.0\n",
    "\n",
    "# Now, the data has 15% more black people who are denied a loan\n",
    "race_dataset.to_csv(\"added_sex_bias.csv\", index=False)\n",
    "sampled_data = pd.read_csv('added_sex_bias.csv')"
   ]
  },
  {
   "cell_type": "code",
   "execution_count": 2,
   "metadata": {},
   "outputs": [],
   "source": [
    "import numpy as np\n",
    "\n",
    "def calculate_confusion_matrix(y_true, y_pred, group):\n",
    "    # Ensure that group is a boolean array for indexing\n",
    "    group = group.astype(bool)\n",
    "\n",
    "    # Filter the predictions and true values based on the group\n",
    "    y_true_group = y_true[group]\n",
    "    y_pred_group = y_pred[group]\n",
    "\n",
    "    # Calculate true positives, false positives, true negatives, and false negatives\n",
    "    tp = np.sum((y_pred_group == 1) & (y_true_group == 1))\n",
    "    tn = np.sum((y_pred_group == 0) & (y_true_group == 0))\n",
    "    fp = np.sum((y_pred_group == 1) & (y_true_group == 0))\n",
    "    fn = np.sum((y_pred_group == 0) & (y_true_group == 1))\n",
    "\n",
    "    return tp, tn, fp, fn\n",
    "\n",
    "def EqualOpportunityDifference(y, pred, group_a, group_b):\n",
    "    tp_a, _, _, fn_a = calculate_confusion_matrix(y, pred, group_a)\n",
    "    tp_b, _, _, fn_b = calculate_confusion_matrix(y, pred, group_b)\n",
    "    tpr_a = tp_a / (tp_a + fn_a) if (tp_a + fn_a) > 0 else 0\n",
    "    tpr_b = tp_b / (tp_b + fn_b) if (tp_b + fn_b) > 0 else 0\n",
    "    return tpr_b - tpr_a\n",
    "\n",
    "def FalsePositiveRateBalance(y, pred, group_a, group_b):\n",
    "    _, tn_a, fp_a, _ = calculate_confusion_matrix(y, pred, group_a)\n",
    "    _, tn_b, fp_b, _ = calculate_confusion_matrix(y, pred, group_b)\n",
    "    fpr_a = fp_a / (fp_a + tn_a) if (fp_a + tn_a) > 0 else 0\n",
    "    fpr_b = fp_b / (fp_b + tn_b) if (fp_b + tn_b) > 0 else 0\n",
    "    return fpr_b - fpr_a\n",
    "\n",
    "def EqualisedOdds(y, pred, group_a, group_b):\n",
    "    return (EqualOpportunityDifference(y, pred, group_a, group_b) +\n",
    "            FalsePositiveRateBalance(y, pred, group_a, group_b)) / 2\n",
    "\n",
    "def PredictiveParityDifference(y, pred, group_a, group_b):\n",
    "    tp_a, _, fp_a, _ = calculate_confusion_matrix(y, pred, group_a)\n",
    "    tp_b, _, fp_b, _ = calculate_confusion_matrix(y, pred, group_b)\n",
    "    precision_a = tp_a / (tp_a + fp_a) if (tp_a + fp_a) > 0 else 0\n",
    "    precision_b = tp_b / (tp_b + fp_b) if (tp_b + fp_b) > 0 else 0\n",
    "    return precision_b - precision_a\n",
    "\n",
    "def StatisticalParityDifference(y, pred, group_a, group_b):\n",
    "    positive_rate_a = pred[group_a].mean()\n",
    "    positive_rate_b = pred[group_b].mean()\n",
    "    return positive_rate_b - positive_rate_a\n"
   ]
  },
  {
   "cell_type": "code",
   "execution_count": 3,
   "metadata": {},
   "outputs": [],
   "source": [
    "# male = 1.0\n",
    "# female = 0.0\n",
    "\n",
    "group_e = (sampled_data['derived_sex'] == 1.0).astype(int)\n",
    "group_f = (sampled_data['derived_sex'] == 0.0).astype(int)\n",
    "\n",
    "bias_metrics = {\n",
    "    \"Equal Opportunity Difference\": EqualOpportunityDifference,\n",
    "    \"False Positive Rate Balance\": FalsePositiveRateBalance,\n",
    "    \"Equalised Odds\": EqualisedOdds,\n",
    "    \"Predictive Parity Difference\": PredictiveParityDifference,\n",
    "    \"Statistical Parity Difference\": StatisticalParityDifference\n",
    "}\n",
    "\n",
    "from sklearn.metrics import accuracy_score, recall_score, f1_score, confusion_matrix, precision_score, roc_auc_score\n",
    "\n",
    "from sklearn import metrics\n",
    "perf_metrics = {\"Accuracy\": metrics.accuracy_score, \n",
    "                \"Precision\": metrics.precision_score, \n",
    "                \"Recall\": metrics.recall_score,\n",
    "                \"AUC\": metrics.roc_auc_score, \n",
    "                \"F1-Score\": metrics.f1_score,\n",
    "                }\n",
    "                \n"
   ]
  },
  {
   "cell_type": "code",
   "execution_count": 4,
   "metadata": {},
   "outputs": [],
   "source": [
    "from sklearn.model_selection import train_test_split\n",
    "\n",
    "y = sampled_data['action_taken']\n",
    "\n",
    "X = sampled_data.drop(['Unnamed: 0','action_taken', 'derived_race','derived_sex'], axis=1)\n",
    "\n",
    "test_set = 0.2\n",
    "seed = 123\n",
    "\n",
    "# Splitting the data into train and test sets\n",
    "X_train, X_test, y_train, y_test = train_test_split(X, y, test_size=test_set, random_state=seed, stratify=y)\n"
   ]
  },
  {
   "cell_type": "code",
   "execution_count": 5,
   "metadata": {},
   "outputs": [
    {
     "name": "stderr",
     "output_type": "stream",
     "text": [
      "c:\\ProgramData\\Anaconda3\\lib\\site-packages\\sklearn\\linear_model\\_logistic.py:814: ConvergenceWarning: lbfgs failed to converge (status=1):\n",
      "STOP: TOTAL NO. of ITERATIONS REACHED LIMIT.\n",
      "\n",
      "Increase the number of iterations (max_iter) or scale the data as shown in:\n",
      "    https://scikit-learn.org/stable/modules/preprocessing.html\n",
      "Please also refer to the documentation for alternative solver options:\n",
      "    https://scikit-learn.org/stable/modules/linear_model.html#logistic-regression\n",
      "  n_iter_i = _check_optimize_result(\n",
      "c:\\ProgramData\\Anaconda3\\lib\\site-packages\\sklearn\\linear_model\\_logistic.py:814: ConvergenceWarning: lbfgs failed to converge (status=1):\n",
      "STOP: TOTAL NO. of ITERATIONS REACHED LIMIT.\n",
      "\n",
      "Increase the number of iterations (max_iter) or scale the data as shown in:\n",
      "    https://scikit-learn.org/stable/modules/preprocessing.html\n",
      "Please also refer to the documentation for alternative solver options:\n",
      "    https://scikit-learn.org/stable/modules/linear_model.html#logistic-regression\n",
      "  n_iter_i = _check_optimize_result(\n",
      "c:\\ProgramData\\Anaconda3\\lib\\site-packages\\sklearn\\linear_model\\_logistic.py:814: ConvergenceWarning: lbfgs failed to converge (status=1):\n",
      "STOP: TOTAL NO. of ITERATIONS REACHED LIMIT.\n",
      "\n",
      "Increase the number of iterations (max_iter) or scale the data as shown in:\n",
      "    https://scikit-learn.org/stable/modules/preprocessing.html\n",
      "Please also refer to the documentation for alternative solver options:\n",
      "    https://scikit-learn.org/stable/modules/linear_model.html#logistic-regression\n",
      "  n_iter_i = _check_optimize_result(\n",
      "c:\\ProgramData\\Anaconda3\\lib\\site-packages\\sklearn\\linear_model\\_logistic.py:814: ConvergenceWarning: lbfgs failed to converge (status=1):\n",
      "STOP: TOTAL NO. of ITERATIONS REACHED LIMIT.\n",
      "\n",
      "Increase the number of iterations (max_iter) or scale the data as shown in:\n",
      "    https://scikit-learn.org/stable/modules/preprocessing.html\n",
      "Please also refer to the documentation for alternative solver options:\n",
      "    https://scikit-learn.org/stable/modules/linear_model.html#logistic-regression\n",
      "  n_iter_i = _check_optimize_result(\n",
      "c:\\ProgramData\\Anaconda3\\lib\\site-packages\\sklearn\\linear_model\\_logistic.py:814: ConvergenceWarning: lbfgs failed to converge (status=1):\n",
      "STOP: TOTAL NO. of ITERATIONS REACHED LIMIT.\n",
      "\n",
      "Increase the number of iterations (max_iter) or scale the data as shown in:\n",
      "    https://scikit-learn.org/stable/modules/preprocessing.html\n",
      "Please also refer to the documentation for alternative solver options:\n",
      "    https://scikit-learn.org/stable/modules/linear_model.html#logistic-regression\n",
      "  n_iter_i = _check_optimize_result(\n"
     ]
    }
   ],
   "source": [
    "from sklearn.linear_model import LogisticRegression\n",
    "from sklearn.model_selection import StratifiedKFold\n",
    "import pandas as pd\n",
    "\n",
    "lr = LogisticRegression(random_state=10, solver=\"lbfgs\", penalty=\"none\", max_iter=1000)\n",
    "mv = StratifiedKFold(n_splits=5, shuffle=True, random_state=10)\n",
    "\n",
    "sex_metrics_all = pd.DataFrame()\n",
    "k, i = True, 1\n",
    "i = 1\n",
    "for (train, test) in mv.split(X, y):\n",
    "    lr.fit(X.iloc[train], y.iloc[train].values.ravel())\n",
    "    ypred_prob = lr.predict_proba(X.iloc[test]).ravel()[1::2] # get probabilities\n",
    "    ypred_class = lr.predict(X.iloc[test])\n",
    "\n",
    "    # compute performance metrics\n",
    "    metrics = []\n",
    "    for pf in perf_metrics.keys():\n",
    "        if pf == \"AUC\":\n",
    "            metrics += [[pf, perf_metrics[pf](y.iloc[test].values.ravel(), ypred_prob)]]\n",
    "        else:\n",
    "            metrics += [[pf, perf_metrics[pf](y.iloc[test].values.ravel(), ypred_class)]]\n",
    "\n",
    "    # concatenate results\n",
    "    df_m = pd.DataFrame(metrics, columns=[\"Metric\", \"Value\"])\n",
    "    df_m[\"Fold\"] = i\n",
    "    i += 1\n",
    "    if k:\n",
    "        df_metrics = df_m.copy()\n",
    "        k=0\n",
    "    else:\n",
    "        df_metrics = pd.concat([df_metrics, df_m.copy()], axis=0, ignore_index=True)\n",
    "\n",
    "    # Reset these lists inside the loop for each fold\n",
    "    sex_metrics = []\n",
    "\n",
    "    for bias in bias_metrics.keys():                                   \n",
    "        sex_metrics.append([bias, bias_metrics[bias](y.iloc[test].values.ravel(), ypred_class,\n",
    "                                        group_e[test], group_f[test])])\n",
    "\n",
    "        # Convert lists to DataFrames before concatenation\n",
    "        sex_df = pd.DataFrame(sex_metrics, columns=[\"Metric\", \"Value\"]).assign(Fold=i)\n",
    "\n",
    "\n",
    "\n",
    "    sex_metrics_all = pd.concat([sex_metrics_all, sex_df], axis=0)\n",
    "\n",
    "    i += 1\n",
    "\n",
    "\n",
    "sex_summary = sex_metrics_all.pivot_table(index='Metric', values='Value', aggfunc=['mean', 'std'])\n"
   ]
  },
  {
   "cell_type": "code",
   "execution_count": 6,
   "metadata": {},
   "outputs": [
    {
     "data": {
      "text/html": [
       "<div>\n",
       "<style scoped>\n",
       "    .dataframe tbody tr th:only-of-type {\n",
       "        vertical-align: middle;\n",
       "    }\n",
       "\n",
       "    .dataframe tbody tr th {\n",
       "        vertical-align: top;\n",
       "    }\n",
       "\n",
       "    .dataframe thead tr th {\n",
       "        text-align: left;\n",
       "    }\n",
       "\n",
       "    .dataframe thead tr:last-of-type th {\n",
       "        text-align: right;\n",
       "    }\n",
       "</style>\n",
       "<table border=\"1\" class=\"dataframe\">\n",
       "  <thead>\n",
       "    <tr>\n",
       "      <th></th>\n",
       "      <th>mean</th>\n",
       "      <th>std</th>\n",
       "    </tr>\n",
       "    <tr>\n",
       "      <th></th>\n",
       "      <th>Value</th>\n",
       "      <th>Value</th>\n",
       "    </tr>\n",
       "    <tr>\n",
       "      <th>Metric</th>\n",
       "      <th></th>\n",
       "      <th></th>\n",
       "    </tr>\n",
       "  </thead>\n",
       "  <tbody>\n",
       "    <tr>\n",
       "      <th>AUC</th>\n",
       "      <td>0.992185</td>\n",
       "      <td>0.000212</td>\n",
       "    </tr>\n",
       "    <tr>\n",
       "      <th>Accuracy</th>\n",
       "      <td>0.965128</td>\n",
       "      <td>0.001136</td>\n",
       "    </tr>\n",
       "    <tr>\n",
       "      <th>F1-Score</th>\n",
       "      <td>0.979929</td>\n",
       "      <td>0.000653</td>\n",
       "    </tr>\n",
       "    <tr>\n",
       "      <th>Precision</th>\n",
       "      <td>0.986515</td>\n",
       "      <td>0.000957</td>\n",
       "    </tr>\n",
       "    <tr>\n",
       "      <th>Recall</th>\n",
       "      <td>0.973430</td>\n",
       "      <td>0.000802</td>\n",
       "    </tr>\n",
       "  </tbody>\n",
       "</table>\n",
       "</div>"
      ],
      "text/plain": [
       "               mean       std\n",
       "              Value     Value\n",
       "Metric                       \n",
       "AUC        0.992185  0.000212\n",
       "Accuracy   0.965128  0.001136\n",
       "F1-Score   0.979929  0.000653\n",
       "Precision  0.986515  0.000957\n",
       "Recall     0.973430  0.000802"
      ]
     },
     "execution_count": 6,
     "metadata": {},
     "output_type": "execute_result"
    }
   ],
   "source": [
    "if not pd.api.types.is_numeric_dtype(df_metrics['Value']):\n",
    "    df_metrics['Value'] = pd.to_numeric(df_metrics['Value'], errors='coerce')\n",
    "\n",
    "pivot_table = df_metrics.pivot_table(index=\"Metric\", values=\"Value\", aggfunc=[\"mean\", \"std\"])\n",
    "df_metrics.pivot_table(index=\"Metric\", values=\"Value\", aggfunc=[\"mean\", \"std\"])\n"
   ]
  },
  {
   "cell_type": "code",
   "execution_count": 7,
   "metadata": {},
   "outputs": [
    {
     "data": {
      "text/plain": [
       "<AxesSubplot:title={'center':'Value'}, xlabel='Metric'>"
      ]
     },
     "execution_count": 7,
     "metadata": {},
     "output_type": "execute_result"
    },
    {
     "data": {
      "image/png": "[encoded data removed]",
      "text/plain": [
       "<Figure size 432x288 with 1 Axes>"
      ]
     },
     "metadata": {
      "needs_background": "light"
     },
     "output_type": "display_data"
    }
   ],
   "source": [
    "df_metrics.boxplot(column='Value', by='Metric')"
   ]
  },
  {
   "cell_type": "code",
   "execution_count": 8,
   "metadata": {},
   "outputs": [
    {
     "name": "stdout",
     "output_type": "stream",
     "text": [
      "\n",
      "MALE/FEMALE:\n"
     ]
    },
    {
     "data": {
      "text/html": [
       "<div>\n",
       "<style scoped>\n",
       "    .dataframe tbody tr th:only-of-type {\n",
       "        vertical-align: middle;\n",
       "    }\n",
       "\n",
       "    .dataframe tbody tr th {\n",
       "        vertical-align: top;\n",
       "    }\n",
       "\n",
       "    .dataframe thead tr th {\n",
       "        text-align: left;\n",
       "    }\n",
       "\n",
       "    .dataframe thead tr:last-of-type th {\n",
       "        text-align: right;\n",
       "    }\n",
       "</style>\n",
       "<table border=\"1\" class=\"dataframe\">\n",
       "  <thead>\n",
       "    <tr>\n",
       "      <th></th>\n",
       "      <th>mean</th>\n",
       "      <th>std</th>\n",
       "    </tr>\n",
       "    <tr>\n",
       "      <th></th>\n",
       "      <th>Value</th>\n",
       "      <th>Value</th>\n",
       "    </tr>\n",
       "    <tr>\n",
       "      <th>Metric</th>\n",
       "      <th></th>\n",
       "      <th></th>\n",
       "    </tr>\n",
       "  </thead>\n",
       "  <tbody>\n",
       "    <tr>\n",
       "      <th>Equal Opportunity Difference</th>\n",
       "      <td>0.003377</td>\n",
       "      <td>0.001098</td>\n",
       "    </tr>\n",
       "    <tr>\n",
       "      <th>Equalised Odds</th>\n",
       "      <td>-0.006733</td>\n",
       "      <td>0.002519</td>\n",
       "    </tr>\n",
       "    <tr>\n",
       "      <th>False Positive Rate Balance</th>\n",
       "      <td>-0.016843</td>\n",
       "      <td>0.004642</td>\n",
       "    </tr>\n",
       "    <tr>\n",
       "      <th>Predictive Parity Difference</th>\n",
       "      <td>0.003206</td>\n",
       "      <td>0.000811</td>\n",
       "    </tr>\n",
       "    <tr>\n",
       "      <th>Statistical Parity Difference</th>\n",
       "      <td>-0.030415</td>\n",
       "      <td>0.068009</td>\n",
       "    </tr>\n",
       "  </tbody>\n",
       "</table>\n",
       "</div>"
      ],
      "text/plain": [
       "                                   mean       std\n",
       "                                  Value     Value\n",
       "Metric                                           \n",
       "Equal Opportunity Difference   0.003377  0.001098\n",
       "Equalised Odds                -0.006733  0.002519\n",
       "False Positive Rate Balance   -0.016843  0.004642\n",
       "Predictive Parity Difference   0.003206  0.000811\n",
       "Statistical Parity Difference -0.030415  0.068009"
      ]
     },
     "execution_count": 8,
     "metadata": {},
     "output_type": "execute_result"
    }
   ],
   "source": [
    "print(\"\\nMALE/FEMALE:\")\n",
    "sex_summary"
   ]
  },
  {
   "cell_type": "code",
   "execution_count": 30,
   "metadata": {},
   "outputs": [
    {
     "name": "stdout",
     "output_type": "stream",
     "text": [
      "Collecting shap\n",
      "  Downloading shap-0.45.0-cp39-cp39-win_amd64.whl (453 kB)\n",
      "Requirement already satisfied: pandas in c:\\programdata\\anaconda3\\lib\\site-packages (from shap) (1.4.2)\n",
      "Requirement already satisfied: cloudpickle in c:\\programdata\\anaconda3\\lib\\site-packages (from shap) (2.0.0)\n",
      "Requirement already satisfied: packaging>20.9 in c:\\programdata\\anaconda3\\lib\\site-packages (from shap) (21.3)\n",
      "Requirement already satisfied: scipy in c:\\programdata\\anaconda3\\lib\\site-packages (from shap) (1.7.3)\n",
      "Requirement already satisfied: scikit-learn in c:\\programdata\\anaconda3\\lib\\site-packages (from shap) (1.0.2)\n",
      "Collecting slicer==0.0.7\n",
      "  Downloading slicer-0.0.7-py3-none-any.whl (14 kB)\n",
      "Requirement already satisfied: numpy in c:\\programdata\\anaconda3\\lib\\site-packages (from shap) (1.21.5)\n",
      "Requirement already satisfied: numba in c:\\programdata\\anaconda3\\lib\\site-packages (from shap) (0.55.1)\n",
      "Requirement already satisfied: tqdm>=4.27.0 in c:\\programdata\\anaconda3\\lib\\site-packages (from shap) (4.64.0)\n",
      "Requirement already satisfied: pyparsing!=3.0.5,>=2.0.2 in c:\\programdata\\anaconda3\\lib\\site-packages (from packaging>20.9->shap) (3.0.4)\n",
      "Requirement already satisfied: colorama in c:\\programdata\\anaconda3\\lib\\site-packages (from tqdm>=4.27.0->shap) (0.4.4)\n",
      "Requirement already satisfied: llvmlite<0.39,>=0.38.0rc1 in c:\\programdata\\anaconda3\\lib\\site-packages (from numba->shap) (0.38.0)\n",
      "Requirement already satisfied: setuptools in c:\\programdata\\anaconda3\\lib\\site-packages (from numba->shap) (61.2.0)\n",
      "Requirement already satisfied: python-dateutil>=2.8.1 in c:\\programdata\\anaconda3\\lib\\site-packages (from pandas->shap) (2.8.2)\n",
      "Requirement already satisfied: pytz>=2020.1 in c:\\programdata\\anaconda3\\lib\\site-packages (from pandas->shap) (2021.3)\n",
      "Requirement already satisfied: six>=1.5 in c:\\programdata\\anaconda3\\lib\\site-packages (from python-dateutil>=2.8.1->pandas->shap) (1.16.0)\n",
      "Requirement already satisfied: joblib>=0.11 in c:\\programdata\\anaconda3\\lib\\site-packages (from scikit-learn->shap) (1.1.0)\n",
      "Requirement already satisfied: threadpoolctl>=2.0.0 in c:\\programdata\\anaconda3\\lib\\site-packages (from scikit-learn->shap) (2.2.0)\n",
      "Installing collected packages: slicer, shap\n",
      "Successfully installed shap-0.45.0 slicer-0.0.7\n",
      "Note: you may need to restart the kernel to use updated packages.\n"
     ]
    },
    {
     "data": {
      "image/png": "[encoded data removed]",
      "text/plain": [
       "<Figure size 576x684 with 1 Axes>"
      ]
     },
     "metadata": {
      "needs_background": "light"
     },
     "output_type": "display_data"
    }
   ],
   "source": [
    "%pip install shap\n",
    "import shap\n",
    "explainer = shap.LinearExplainer(lr, X_train)\n",
    "shap_values = explainer.shap_values(X_train)\n",
    "shap.summary_plot(shap_values, X_train, plot_type=\"bar\")\n",
    "\n"
   ]
  },
  {
   "cell_type": "code",
   "execution_count": 10,
   "metadata": {},
   "outputs": [
    {
     "name": "stdout",
     "output_type": "stream",
     "text": [
      "Requirement already satisfied: xgboost in c:\\programdata\\anaconda3\\lib\\site-packages (2.0.3)\n",
      "Requirement already satisfied: numpy in c:\\programdata\\anaconda3\\lib\\site-packages (from xgboost) (1.21.5)\n",
      "Requirement already satisfied: scipy in c:\\programdata\\anaconda3\\lib\\site-packages (from xgboost) (1.7.3)\n",
      "Note: you may need to restart the kernel to use updated packages.\n"
     ]
    }
   ],
   "source": [
    "%pip install xgboost\n",
    "from xgboost import XGBClassifier\n",
    "# Initialize the XGBClassifier\n",
    "xgb_clf = XGBClassifier(use_label_encoder=False)\n",
    "\n",
    "mv = StratifiedKFold(n_splits=5, shuffle=True, random_state=10)\n",
    "\n",
    "import pandas as pd\n",
    "k, i = True, 1\n",
    "\n",
    "for (train, test) in mv.split(X, y):\n",
    "    # fit model\n",
    "    xgb_clf = xgb_clf.fit(X.iloc[train], y.iloc[train].values.ravel())\n",
    "    \n",
    "    # get predictions in the test set\n",
    "    ypred_prob = xgb_clf.predict_proba(X.iloc[test]).ravel()[1::2] # get probabilities\n",
    "    ypred_class = xgb_clf.predict(X.iloc[test])\n",
    "    # compute performance metrics\n",
    "    metrics = []\n",
    "    for pf in perf_metrics.keys():\n",
    "        if pf in == \"AUC\":\n",
    "            metrics += [[pf, perf_metrics[pf](y.iloc[test].values.ravel(), ypred_prob)]]\n",
    "        else:\n",
    "            metrics += [[pf, perf_metrics[pf](y.iloc[test].values.ravel(), ypred_class)]]\n",
    "\n",
    "    # concatenate results\n",
    "    df_m = pd.DataFrame(metrics, columns=[\"Metric\", \"Value\"])\n",
    "    df_m[\"Fold\"] = i\n",
    "    i += 1\n",
    "    if k:\n",
    "        df_metrics = df_m.copy()\n",
    "        k=0\n",
    "    else:\n",
    "        df_metrics = pd.concat([df_metrics, df_m.copy()], axis=0, ignore_index=True)\n",
    "\n",
    "    sex_metrics = []\n",
    "    for bias in bias_metrics.keys():                                  \n",
    "        sex_metrics.append([bias, bias_metrics[bias](y.iloc[test].values.ravel(), ypred_class,\n",
    "                                        group_e[test], group_f[test])])\n",
    "\n",
    "        # Convert lists to DataFrames before concatenation\n",
    "        sex_df = pd.DataFrame(sex_metrics, columns=[\"Metric\", \"Value\"]).assign(Fold=i)\n",
    "\n",
    "    # Concatenate the new DataFrames with the all metrics DataFrames\n",
    "    sex_metrics_all = pd.concat([sex_metrics_all, sex_df], axis=0)\n",
    "\n",
    "    i += 1\n",
    "\n",
    "sex_summary = sex_metrics_all.pivot_table(index='Metric', values='Value', aggfunc=['mean', 'std'])"
   ]
  },
  {
   "cell_type": "code",
   "execution_count": 11,
   "metadata": {},
   "outputs": [
    {
     "data": {
      "text/html": [
       "<div>\n",
       "<style scoped>\n",
       "    .dataframe tbody tr th:only-of-type {\n",
       "        vertical-align: middle;\n",
       "    }\n",
       "\n",
       "    .dataframe tbody tr th {\n",
       "        vertical-align: top;\n",
       "    }\n",
       "\n",
       "    .dataframe thead tr th {\n",
       "        text-align: left;\n",
       "    }\n",
       "\n",
       "    .dataframe thead tr:last-of-type th {\n",
       "        text-align: right;\n",
       "    }\n",
       "</style>\n",
       "<table border=\"1\" class=\"dataframe\">\n",
       "  <thead>\n",
       "    <tr>\n",
       "      <th></th>\n",
       "      <th>mean</th>\n",
       "      <th>std</th>\n",
       "    </tr>\n",
       "    <tr>\n",
       "      <th></th>\n",
       "      <th>Value</th>\n",
       "      <th>Value</th>\n",
       "    </tr>\n",
       "    <tr>\n",
       "      <th>Metric</th>\n",
       "      <th></th>\n",
       "      <th></th>\n",
       "    </tr>\n",
       "  </thead>\n",
       "  <tbody>\n",
       "    <tr>\n",
       "      <th>AUC</th>\n",
       "      <td>0.994284</td>\n",
       "      <td>0.000218</td>\n",
       "    </tr>\n",
       "    <tr>\n",
       "      <th>Accuracy</th>\n",
       "      <td>0.969518</td>\n",
       "      <td>0.000781</td>\n",
       "    </tr>\n",
       "    <tr>\n",
       "      <th>F1-Score</th>\n",
       "      <td>0.982557</td>\n",
       "      <td>0.000443</td>\n",
       "    </tr>\n",
       "    <tr>\n",
       "      <th>Precision</th>\n",
       "      <td>0.983372</td>\n",
       "      <td>0.000761</td>\n",
       "    </tr>\n",
       "    <tr>\n",
       "      <th>Recall</th>\n",
       "      <td>0.981743</td>\n",
       "      <td>0.000351</td>\n",
       "    </tr>\n",
       "  </tbody>\n",
       "</table>\n",
       "</div>"
      ],
      "text/plain": [
       "               mean       std\n",
       "              Value     Value\n",
       "Metric                       \n",
       "AUC        0.994284  0.000218\n",
       "Accuracy   0.969518  0.000781\n",
       "F1-Score   0.982557  0.000443\n",
       "Precision  0.983372  0.000761\n",
       "Recall     0.981743  0.000351"
      ]
     },
     "execution_count": 11,
     "metadata": {},
     "output_type": "execute_result"
    }
   ],
   "source": [
    "# If 'Value' is not a numeric type, you may need to convert it\n",
    "if not pd.api.types.is_numeric_dtype(df_metrics['Value']):\n",
    "    df_metrics['Value'] = pd.to_numeric(df_metrics['Value'], errors='coerce')\n",
    "\n",
    "# Now try creating the pivot table again\n",
    "pivot_table = df_metrics.pivot_table(index=\"Metric\", values=\"Value\", aggfunc=[\"mean\", \"std\"])\n",
    "df_metrics.pivot_table(index=\"Metric\", values=\"Value\", aggfunc=[\"mean\", \"std\"])\n"
   ]
  },
  {
   "cell_type": "code",
   "execution_count": 12,
   "metadata": {},
   "outputs": [
    {
     "data": {
      "text/plain": [
       "<AxesSubplot:title={'center':'Value'}, xlabel='Metric'>"
      ]
     },
     "execution_count": 12,
     "metadata": {},
     "output_type": "execute_result"
    },
    {
     "data": {
      "image/png": "[encoded data removed]",
      "text/plain": [
       "<Figure size 432x288 with 1 Axes>"
      ]
     },
     "metadata": {
      "needs_background": "light"
     },
     "output_type": "display_data"
    }
   ],
   "source": [
    "df_metrics.boxplot(column='Value', by='Metric')"
   ]
  },
  {
   "cell_type": "code",
   "execution_count": 13,
   "metadata": {},
   "outputs": [
    {
     "name": "stdout",
     "output_type": "stream",
     "text": [
      "\n",
      "MALE/FEMALE:\n"
     ]
    },
    {
     "data": {
      "text/html": [
       "<div>\n",
       "<style scoped>\n",
       "    .dataframe tbody tr th:only-of-type {\n",
       "        vertical-align: middle;\n",
       "    }\n",
       "\n",
       "    .dataframe tbody tr th {\n",
       "        vertical-align: top;\n",
       "    }\n",
       "\n",
       "    .dataframe thead tr th {\n",
       "        text-align: left;\n",
       "    }\n",
       "\n",
       "    .dataframe thead tr:last-of-type th {\n",
       "        text-align: right;\n",
       "    }\n",
       "</style>\n",
       "<table border=\"1\" class=\"dataframe\">\n",
       "  <thead>\n",
       "    <tr>\n",
       "      <th></th>\n",
       "      <th>mean</th>\n",
       "      <th>std</th>\n",
       "    </tr>\n",
       "    <tr>\n",
       "      <th></th>\n",
       "      <th>Value</th>\n",
       "      <th>Value</th>\n",
       "    </tr>\n",
       "    <tr>\n",
       "      <th>Metric</th>\n",
       "      <th></th>\n",
       "      <th></th>\n",
       "    </tr>\n",
       "  </thead>\n",
       "  <tbody>\n",
       "    <tr>\n",
       "      <th>Equal Opportunity Difference</th>\n",
       "      <td>0.002909</td>\n",
       "      <td>0.001435</td>\n",
       "    </tr>\n",
       "    <tr>\n",
       "      <th>Equalised Odds</th>\n",
       "      <td>-0.007017</td>\n",
       "      <td>0.003278</td>\n",
       "    </tr>\n",
       "    <tr>\n",
       "      <th>False Positive Rate Balance</th>\n",
       "      <td>-0.016943</td>\n",
       "      <td>0.005562</td>\n",
       "    </tr>\n",
       "    <tr>\n",
       "      <th>Predictive Parity Difference</th>\n",
       "      <td>0.003276</td>\n",
       "      <td>0.001041</td>\n",
       "    </tr>\n",
       "    <tr>\n",
       "      <th>Statistical Parity Difference</th>\n",
       "      <td>-0.030415</td>\n",
       "      <td>0.064120</td>\n",
       "    </tr>\n",
       "  </tbody>\n",
       "</table>\n",
       "</div>"
      ],
      "text/plain": [
       "                                   mean       std\n",
       "                                  Value     Value\n",
       "Metric                                           \n",
       "Equal Opportunity Difference   0.002909  0.001435\n",
       "Equalised Odds                -0.007017  0.003278\n",
       "False Positive Rate Balance   -0.016943  0.005562\n",
       "Predictive Parity Difference   0.003276  0.001041\n",
       "Statistical Parity Difference -0.030415  0.064120"
      ]
     },
     "execution_count": 13,
     "metadata": {},
     "output_type": "execute_result"
    }
   ],
   "source": [
    "print(\"\\nMALE/FEMALE:\")\n",
    "sex_summary"
   ]
  },
  {
   "cell_type": "code",
   "execution_count": 32,
   "metadata": {},
   "outputs": [
    {
     "name": "stderr",
     "output_type": "stream",
     "text": [
      "100%|===================| 105407/105529 [04:39<00:00]        "
     ]
    },
    {
     "data": {
      "image/png": "[encoded data removed]",
      "text/plain": [
       "<Figure size 576x684 with 1 Axes>"
      ]
     },
     "metadata": {
      "needs_background": "light"
     },
     "output_type": "display_data"
    }
   ],
   "source": [
    "\n",
    "explainer = shap.TreeExplainer(xgb_clf, X_train)\n",
    "shap_values = explainer.shap_values(X_train)\n",
    "shap.summary_plot(shap_values, X_train, plot_type=\"bar\")\n",
    "\n"
   ]
  },
  {
   "cell_type": "code",
   "execution_count": 14,
   "metadata": {},
   "outputs": [],
   "source": [
    "from sklearn.ensemble import RandomForestClassifier\n",
    "\n",
    "random_forest = RandomForestClassifier(n_estimators=100, random_state=42)\n",
    "\n",
    "mv = StratifiedKFold(n_splits=5, shuffle=True, random_state=10)\n",
    "\n",
    "import pandas as pd\n",
    "k, i = True, 1\n",
    "\n",
    "for (train, test) in mv.split(X, y):\n",
    "    # fit model\n",
    "    random_forest = random_forest.fit(X.iloc[train], y.iloc[train].values.ravel())\n",
    "    \n",
    "    # get predictions in the test set\n",
    "    ypred_prob = random_forest.predict_proba(X.iloc[test]).ravel()[1::2] # get probabilities\n",
    "    ypred_class = random_forest.predict(X.iloc[test])\n",
    "    # compute performance metrics\n",
    "    metrics = []\n",
    "    for pf in perf_metrics.keys():\n",
    "        if pf == \"AUC\":\n",
    "            metrics += [[pf, perf_metrics[pf](y.iloc[test].values.ravel(), ypred_prob)]]\n",
    "        else:\n",
    "            metrics += [[pf, perf_metrics[pf](y.iloc[test].values.ravel(), ypred_class)]]\n",
    "\n",
    "    # concatenate results\n",
    "    df_m = pd.DataFrame(metrics, columns=[\"Metric\", \"Value\"])\n",
    "    df_m[\"Fold\"] = i\n",
    "    i += 1\n",
    "    if k:\n",
    "        df_metrics = df_m.copy()\n",
    "        k=0\n",
    "    else:\n",
    "        df_metrics = pd.concat([df_metrics, df_m.copy()], axis=0, ignore_index=True)\n",
    "\n",
    "    # compute performance metrics\n",
    "    sex_metrics = []\n",
    "    for bias in bias_metrics.keys():                                \n",
    "        sex_metrics.append([bias, bias_metrics[bias](y.iloc[test].values.ravel(), ypred_class,\n",
    "                                        group_e[test], group_f[test])])\n",
    "        # Convert lists to DataFrames before concatenation\n",
    "        sex_df = pd.DataFrame(sex_metrics, columns=[\"Metric\", \"Value\"]).assign(Fold=i)\n",
    " \n",
    "\n",
    "    # Concatenate the new DataFrames with the all metrics DataFrames\n",
    "    sex_metrics_all = pd.concat([sex_metrics_all, sex_df], axis=0)\n",
    "\n",
    "    i += 1\n",
    "\n",
    "sex_summary = sex_metrics_all.pivot_table(index='Metric', values='Value', aggfunc=['mean', 'std'])"
   ]
  },
  {
   "cell_type": "code",
   "execution_count": 15,
   "metadata": {},
   "outputs": [
    {
     "data": {
      "text/html": [
       "<div>\n",
       "<style scoped>\n",
       "    .dataframe tbody tr th:only-of-type {\n",
       "        vertical-align: middle;\n",
       "    }\n",
       "\n",
       "    .dataframe tbody tr th {\n",
       "        vertical-align: top;\n",
       "    }\n",
       "\n",
       "    .dataframe thead tr th {\n",
       "        text-align: left;\n",
       "    }\n",
       "\n",
       "    .dataframe thead tr:last-of-type th {\n",
       "        text-align: right;\n",
       "    }\n",
       "</style>\n",
       "<table border=\"1\" class=\"dataframe\">\n",
       "  <thead>\n",
       "    <tr>\n",
       "      <th></th>\n",
       "      <th>mean</th>\n",
       "      <th>std</th>\n",
       "    </tr>\n",
       "    <tr>\n",
       "      <th></th>\n",
       "      <th>Value</th>\n",
       "      <th>Value</th>\n",
       "    </tr>\n",
       "    <tr>\n",
       "      <th>Metric</th>\n",
       "      <th></th>\n",
       "      <th></th>\n",
       "    </tr>\n",
       "  </thead>\n",
       "  <tbody>\n",
       "    <tr>\n",
       "      <th>AUC</th>\n",
       "      <td>0.994432</td>\n",
       "      <td>0.000245</td>\n",
       "    </tr>\n",
       "    <tr>\n",
       "      <th>Accuracy</th>\n",
       "      <td>0.969692</td>\n",
       "      <td>0.001039</td>\n",
       "    </tr>\n",
       "    <tr>\n",
       "      <th>F1-Score</th>\n",
       "      <td>0.982631</td>\n",
       "      <td>0.000597</td>\n",
       "    </tr>\n",
       "    <tr>\n",
       "      <th>Precision</th>\n",
       "      <td>0.984899</td>\n",
       "      <td>0.000546</td>\n",
       "    </tr>\n",
       "    <tr>\n",
       "      <th>Recall</th>\n",
       "      <td>0.980374</td>\n",
       "      <td>0.000688</td>\n",
       "    </tr>\n",
       "  </tbody>\n",
       "</table>\n",
       "</div>"
      ],
      "text/plain": [
       "               mean       std\n",
       "              Value     Value\n",
       "Metric                       \n",
       "AUC        0.994432  0.000245\n",
       "Accuracy   0.969692  0.001039\n",
       "F1-Score   0.982631  0.000597\n",
       "Precision  0.984899  0.000546\n",
       "Recall     0.980374  0.000688"
      ]
     },
     "execution_count": 15,
     "metadata": {},
     "output_type": "execute_result"
    }
   ],
   "source": [
    "if not pd.api.types.is_numeric_dtype(df_metrics['Value']):\n",
    "    df_metrics['Value'] = pd.to_numeric(df_metrics['Value'], errors='coerce')\n",
    "\n",
    "pivot_table = df_metrics.pivot_table(index=\"Metric\", values=\"Value\", aggfunc=[\"mean\", \"std\"])\n",
    "df_metrics.pivot_table(index=\"Metric\", values=\"Value\", aggfunc=[\"mean\", \"std\"])\n"
   ]
  },
  {
   "cell_type": "code",
   "execution_count": 16,
   "metadata": {},
   "outputs": [
    {
     "data": {
      "text/plain": [
       "<AxesSubplot:title={'center':'Value'}, xlabel='Metric'>"
      ]
     },
     "execution_count": 16,
     "metadata": {},
     "output_type": "execute_result"
    },
    {
     "data": {
      "image/png": "[encoded data removed]",
      "text/plain": [
       "<Figure size 432x288 with 1 Axes>"
      ]
     },
     "metadata": {
      "needs_background": "light"
     },
     "output_type": "display_data"
    }
   ],
   "source": [
    "df_metrics.boxplot(column='Value', by='Metric')"
   ]
  },
  {
   "cell_type": "code",
   "execution_count": 17,
   "metadata": {},
   "outputs": [
    {
     "name": "stdout",
     "output_type": "stream",
     "text": [
      "\n",
      "MALE/FEMALE:\n"
     ]
    },
    {
     "data": {
      "text/html": [
       "<div>\n",
       "<style scoped>\n",
       "    .dataframe tbody tr th:only-of-type {\n",
       "        vertical-align: middle;\n",
       "    }\n",
       "\n",
       "    .dataframe tbody tr th {\n",
       "        vertical-align: top;\n",
       "    }\n",
       "\n",
       "    .dataframe thead tr th {\n",
       "        text-align: left;\n",
       "    }\n",
       "\n",
       "    .dataframe thead tr:last-of-type th {\n",
       "        text-align: right;\n",
       "    }\n",
       "</style>\n",
       "<table border=\"1\" class=\"dataframe\">\n",
       "  <thead>\n",
       "    <tr>\n",
       "      <th></th>\n",
       "      <th>mean</th>\n",
       "      <th>std</th>\n",
       "    </tr>\n",
       "    <tr>\n",
       "      <th></th>\n",
       "      <th>Value</th>\n",
       "      <th>Value</th>\n",
       "    </tr>\n",
       "    <tr>\n",
       "      <th>Metric</th>\n",
       "      <th></th>\n",
       "      <th></th>\n",
       "    </tr>\n",
       "  </thead>\n",
       "  <tbody>\n",
       "    <tr>\n",
       "      <th>Equal Opportunity Difference</th>\n",
       "      <td>0.002541</td>\n",
       "      <td>0.001731</td>\n",
       "    </tr>\n",
       "    <tr>\n",
       "      <th>Equalised Odds</th>\n",
       "      <td>-0.006734</td>\n",
       "      <td>0.004461</td>\n",
       "    </tr>\n",
       "    <tr>\n",
       "      <th>False Positive Rate Balance</th>\n",
       "      <td>-0.016009</td>\n",
       "      <td>0.007856</td>\n",
       "    </tr>\n",
       "    <tr>\n",
       "      <th>Predictive Parity Difference</th>\n",
       "      <td>0.003137</td>\n",
       "      <td>0.001256</td>\n",
       "    </tr>\n",
       "    <tr>\n",
       "      <th>Statistical Parity Difference</th>\n",
       "      <td>-0.030415</td>\n",
       "      <td>0.062964</td>\n",
       "    </tr>\n",
       "  </tbody>\n",
       "</table>\n",
       "</div>"
      ],
      "text/plain": [
       "                                   mean       std\n",
       "                                  Value     Value\n",
       "Metric                                           \n",
       "Equal Opportunity Difference   0.002541  0.001731\n",
       "Equalised Odds                -0.006734  0.004461\n",
       "False Positive Rate Balance   -0.016009  0.007856\n",
       "Predictive Parity Difference   0.003137  0.001256\n",
       "Statistical Parity Difference -0.030415  0.062964"
      ]
     },
     "execution_count": 17,
     "metadata": {},
     "output_type": "execute_result"
    }
   ],
   "source": [
    "print(\"\\nMALE/FEMALE:\")\n",
    "sex_summary"
   ]
  },
  {
   "cell_type": "code",
   "execution_count": 31,
   "metadata": {},
   "outputs": [
    {
     "name": "stderr",
     "output_type": "stream",
     "text": [
      "100%|===================| 211034/211058 [75:08<00:00]        "
     ]
    },
    {
     "data": {
      "image/png": "[encoded data removed]",
      "text/plain": [
       "<Figure size 828x475.2 with 2 Axes>"
      ]
     },
     "metadata": {
      "needs_background": "light"
     },
     "output_type": "display_data"
    }
   ],
   "source": [
    "\n",
    "explainer = shap.TreeExplainer(random_forest, X_train)\n",
    "shap_values = explainer.shap_values(X_train, check_additivity=False)\n",
    "shap.summary_plot(shap_values, X_train, plot_type=\"bar\")\n",
    "\n"
   ]
  },
  {
   "cell_type": "code",
   "execution_count": 18,
   "metadata": {},
   "outputs": [],
   "source": [
    "import pandas as pd\n",
    "k, i = True, 1\n",
    "\n",
    "from sklearn import svm\n",
    "\n",
    "svm = svm.SVC(random_state=10, probability=True)\n",
    "\n",
    "for (train, test) in mv.split(X, y):\n",
    "    svm = svm.fit(X.iloc[train], y.iloc[train].values.ravel())\n",
    "    \n",
    "    ypred_prob = svm.predict_proba(X.iloc[test]).ravel()[1::2] # get probabilities\n",
    "    ypred_class = svm.predict(X.iloc[test])\n",
    "    # compute performance metrics\n",
    "    metrics = []\n",
    "    for pf in perf_metrics.keys():\n",
    "        if pf == \"AUC\":\n",
    "            metrics += [[pf, perf_metrics[pf](y.iloc[test].values.ravel(), ypred_prob)]]\n",
    "        else:\n",
    "            metrics += [[pf, perf_metrics[pf](y.iloc[test].values.ravel(), ypred_class)]]\n",
    "\n",
    "    # concatenate results\n",
    "    df_m = pd.DataFrame(metrics, columns=[\"Metric\", \"Value\"])\n",
    "    df_m[\"Fold\"] = i\n",
    "    i += 1\n",
    "    if k:\n",
    "        df_metrics = df_m.copy()\n",
    "        k=0\n",
    "    else:\n",
    "        df_metrics = pd.concat([df_metrics, df_m.copy()], axis=0, ignore_index=True)\n",
    "\n",
    "    sex_metrics = []\n",
    "    for bias in bias_metrics.keys():                                   \n",
    "        sex_metrics.append([bias, bias_metrics[bias](y.iloc[test].values.ravel(), ypred_class,\n",
    "                                        group_e[test], group_f[test])])\n",
    "        # Convert lists to DataFrames before concatenation\n",
    "        sex_df = pd.DataFrame(sex_metrics, columns=[\"Metric\", \"Value\"]).assign(Fold=i)\n",
    "\n",
    "\n",
    "    # Concatenate the new DataFrames with the all metrics DataFrames\n",
    "    sex_metrics_all = pd.concat([sex_metrics_all, sex_df], axis=0)\n",
    "\n",
    "    i += 1\n",
    "\n",
    "sex_summary = sex_metrics_all.pivot_table(index='Metric', values='Value', aggfunc=['mean', 'std'])"
   ]
  },
  {
   "cell_type": "code",
   "execution_count": 19,
   "metadata": {},
   "outputs": [
    {
     "data": {
      "text/html": [
       "<div>\n",
       "<style scoped>\n",
       "    .dataframe tbody tr th:only-of-type {\n",
       "        vertical-align: middle;\n",
       "    }\n",
       "\n",
       "    .dataframe tbody tr th {\n",
       "        vertical-align: top;\n",
       "    }\n",
       "\n",
       "    .dataframe thead tr th {\n",
       "        text-align: left;\n",
       "    }\n",
       "\n",
       "    .dataframe thead tr:last-of-type th {\n",
       "        text-align: right;\n",
       "    }\n",
       "</style>\n",
       "<table border=\"1\" class=\"dataframe\">\n",
       "  <thead>\n",
       "    <tr>\n",
       "      <th></th>\n",
       "      <th>mean</th>\n",
       "      <th>std</th>\n",
       "    </tr>\n",
       "    <tr>\n",
       "      <th></th>\n",
       "      <th>Value</th>\n",
       "      <th>Value</th>\n",
       "    </tr>\n",
       "    <tr>\n",
       "      <th>Metric</th>\n",
       "      <th></th>\n",
       "      <th></th>\n",
       "    </tr>\n",
       "  </thead>\n",
       "  <tbody>\n",
       "    <tr>\n",
       "      <th>AUC</th>\n",
       "      <td>0.991930</td>\n",
       "      <td>0.000371</td>\n",
       "    </tr>\n",
       "    <tr>\n",
       "      <th>Accuracy</th>\n",
       "      <td>0.965879</td>\n",
       "      <td>0.000893</td>\n",
       "    </tr>\n",
       "    <tr>\n",
       "      <th>F1-Score</th>\n",
       "      <td>0.980416</td>\n",
       "      <td>0.000508</td>\n",
       "    </tr>\n",
       "    <tr>\n",
       "      <th>Precision</th>\n",
       "      <td>0.984215</td>\n",
       "      <td>0.000899</td>\n",
       "    </tr>\n",
       "    <tr>\n",
       "      <th>Recall</th>\n",
       "      <td>0.976646</td>\n",
       "      <td>0.000560</td>\n",
       "    </tr>\n",
       "  </tbody>\n",
       "</table>\n",
       "</div>"
      ],
      "text/plain": [
       "               mean       std\n",
       "              Value     Value\n",
       "Metric                       \n",
       "AUC        0.991930  0.000371\n",
       "Accuracy   0.965879  0.000893\n",
       "F1-Score   0.980416  0.000508\n",
       "Precision  0.984215  0.000899\n",
       "Recall     0.976646  0.000560"
      ]
     },
     "execution_count": 19,
     "metadata": {},
     "output_type": "execute_result"
    }
   ],
   "source": [
    "if not pd.api.types.is_numeric_dtype(df_metrics['Value']):\n",
    "    df_metrics['Value'] = pd.to_numeric(df_metrics['Value'], errors='coerce')\n",
    "\n",
    "pivot_table = df_metrics.pivot_table(index=\"Metric\", values=\"Value\", aggfunc=[\"mean\", \"std\"])\n",
    "df_metrics.pivot_table(index=\"Metric\", values=\"Value\", aggfunc=[\"mean\", \"std\"])\n"
   ]
  },
  {
   "cell_type": "code",
   "execution_count": 20,
   "metadata": {},
   "outputs": [
    {
     "data": {
      "text/plain": [
       "<AxesSubplot:title={'center':'Value'}, xlabel='Metric'>"
      ]
     },
     "execution_count": 20,
     "metadata": {},
     "output_type": "execute_result"
    },
    {
     "data": {
      "image/png": "[encoded data removed]",
      "text/plain": [
       "<Figure size 432x288 with 1 Axes>"
      ]
     },
     "metadata": {
      "needs_background": "light"
     },
     "output_type": "display_data"
    }
   ],
   "source": [
    "df_metrics.boxplot(column='Value', by='Metric')"
   ]
  },
  {
   "cell_type": "code",
   "execution_count": 21,
   "metadata": {},
   "outputs": [
    {
     "name": "stdout",
     "output_type": "stream",
     "text": [
      "\n",
      "MALE/FEMALE:\n"
     ]
    },
    {
     "data": {
      "text/html": [
       "<div>\n",
       "<style scoped>\n",
       "    .dataframe tbody tr th:only-of-type {\n",
       "        vertical-align: middle;\n",
       "    }\n",
       "\n",
       "    .dataframe tbody tr th {\n",
       "        vertical-align: top;\n",
       "    }\n",
       "\n",
       "    .dataframe thead tr th {\n",
       "        text-align: left;\n",
       "    }\n",
       "\n",
       "    .dataframe thead tr:last-of-type th {\n",
       "        text-align: right;\n",
       "    }\n",
       "</style>\n",
       "<table border=\"1\" class=\"dataframe\">\n",
       "  <thead>\n",
       "    <tr>\n",
       "      <th></th>\n",
       "      <th>mean</th>\n",
       "      <th>std</th>\n",
       "    </tr>\n",
       "    <tr>\n",
       "      <th></th>\n",
       "      <th>Value</th>\n",
       "      <th>Value</th>\n",
       "    </tr>\n",
       "    <tr>\n",
       "      <th>Metric</th>\n",
       "      <th></th>\n",
       "      <th></th>\n",
       "    </tr>\n",
       "  </thead>\n",
       "  <tbody>\n",
       "    <tr>\n",
       "      <th>Equal Opportunity Difference</th>\n",
       "      <td>0.002717</td>\n",
       "      <td>0.001713</td>\n",
       "    </tr>\n",
       "    <tr>\n",
       "      <th>Equalised Odds</th>\n",
       "      <td>-0.007491</td>\n",
       "      <td>0.005241</td>\n",
       "    </tr>\n",
       "    <tr>\n",
       "      <th>False Positive Rate Balance</th>\n",
       "      <td>-0.017700</td>\n",
       "      <td>0.009504</td>\n",
       "    </tr>\n",
       "    <tr>\n",
       "      <th>Predictive Parity Difference</th>\n",
       "      <td>0.003393</td>\n",
       "      <td>0.001365</td>\n",
       "    </tr>\n",
       "    <tr>\n",
       "      <th>Statistical Parity Difference</th>\n",
       "      <td>-0.030415</td>\n",
       "      <td>0.062410</td>\n",
       "    </tr>\n",
       "  </tbody>\n",
       "</table>\n",
       "</div>"
      ],
      "text/plain": [
       "                                   mean       std\n",
       "                                  Value     Value\n",
       "Metric                                           \n",
       "Equal Opportunity Difference   0.002717  0.001713\n",
       "Equalised Odds                -0.007491  0.005241\n",
       "False Positive Rate Balance   -0.017700  0.009504\n",
       "Predictive Parity Difference   0.003393  0.001365\n",
       "Statistical Parity Difference -0.030415  0.062410"
      ]
     },
     "execution_count": 21,
     "metadata": {},
     "output_type": "execute_result"
    }
   ],
   "source": [
    "print(\"\\nMALE/FEMALE:\")\n",
    "sex_summary"
   ]
  },
  {
   "cell_type": "code",
   "execution_count": null,
   "metadata": {},
   "outputs": [],
   "source": [
    "\n",
    "explainer = shap.LinearExplainer(svm, X_train)\n",
    "shap_values = explainer.shap_values(X_train)\n",
    "shap.summary_plot(shap_values, X_train, plot_type=\"bar\")\n",
    "\n"
   ]
  },
  {
   "cell_type": "code",
   "execution_count": 26,
   "metadata": {},
   "outputs": [],
   "source": [
    "import lightgbm as lgb\n",
    "import numpy as np\n",
    "\n",
    "parameters = {\n",
    "    'objective': 'binary',\n",
    "    'metric': 'binary_logloss',\n",
    "    'is_unbalance': 'true',\n",
    "    'boosting': 'gbdt',\n",
    "    'num_leaves': 31,\n",
    "    'feature_fraction': 0.5,\n",
    "    'bagging_fraction': 0.5,\n",
    "    'bagging_freq': 20,\n",
    "    'learning_rate': 0.05,\n",
    "    'verbose': 0\n",
    "}\n",
    "\n",
    "train_data = lgb.Dataset(X_train, label=y_train)\n",
    "valid_data = lgb.Dataset(X_test, label=y_test, reference=train_data)\n",
    "\n",
    "lgb_model = lgb.train(parameters,\n",
    "                  train_data,\n",
    "                  valid_sets=[valid_data],\n",
    "                  num_boost_round=5000)\n",
    "\n",
    "mv = StratifiedKFold(n_splits=5, shuffle=True, random_state=10)\n",
    "\n",
    "import pandas as pd\n",
    "k, i = True, 1\n",
    "\n",
    "for (train, test) in mv.split(X, y):\n",
    "    # Create the LightGBM datasets for training and validation\n",
    "    train_data = lgb.Dataset(X.iloc[train], label=y.iloc[train])\n",
    "    valid_data = lgb.Dataset(X.iloc[test], label=y.iloc[test], reference=train_data)\n",
    "    \n",
    "    # Train the model\n",
    "    lgb_model = lgb.train(parameters,\n",
    "                          train_data,\n",
    "                          valid_sets=[valid_data],\n",
    "                          num_boost_round=5000)\n",
    "    \n",
    "    # Get the probability predictions on the test set\n",
    "    ypred_prob = lgb_model.predict(X.iloc[test])  # get probabilities\n",
    "    \n",
    "    # Convert probabilities to binary class predictions\n",
    "    ypred_class = (ypred_prob >= 0.5).astype(int)\n",
    "    \n",
    "    # Compute performance metrics\n",
    "    metrics = []\n",
    "    for pf in perf_metrics.keys():\n",
    "        if pf == \"AUC\":\n",
    "            metrics.append([pf, perf_metrics[pf](y.iloc[test].values.ravel(), ypred_prob)])\n",
    "        else:\n",
    "            metrics.append([pf, perf_metrics[pf](y.iloc[test].values.ravel(), ypred_class)])\n",
    "\n",
    "    # Concatenate results\n",
    "    df_m = pd.DataFrame(metrics, columns=[\"Metric\", \"Value\"])\n",
    "    df_m[\"Fold\"] = i\n",
    "    if k:\n",
    "        df_metrics = df_m.copy()\n",
    "        k = False\n",
    "    else:\n",
    "        df_metrics = pd.concat([df_metrics, df_m], axis=0, ignore_index=True)\n",
    "\n",
    "    # Compute bias metrics\n",
    "    sex_metrics = []\n",
    "    for bias in bias_metrics.keys():\n",
    "        sex_metrics.append([bias, bias_metrics[bias](y.iloc[test].values.ravel(), ypred_class,\n",
    "                                        group_e[test], group_f[test])])\n",
    "        \n",
    "    sex_df = pd.DataFrame(sex_metrics, columns=[\"Metric\", \"Value\"]).assign(Fold=i)\n",
    "    if k:\n",
    "        sex_metrics_all = sex_df.copy()\n",
    "        k = False\n",
    "    else:\n",
    "        sex_metrics_all = pd.concat([sex_metrics_all, sex_df], axis=0)\n",
    "\n",
    "    i += 1\n",
    "\n",
    "sex_summary = sex_metrics_all.groupby('Metric')['Value'].agg(['mean', 'std'])\n"
   ]
  },
  {
   "cell_type": "code",
   "execution_count": 27,
   "metadata": {},
   "outputs": [
    {
     "data": {
      "text/html": [
       "<div>\n",
       "<style scoped>\n",
       "    .dataframe tbody tr th:only-of-type {\n",
       "        vertical-align: middle;\n",
       "    }\n",
       "\n",
       "    .dataframe tbody tr th {\n",
       "        vertical-align: top;\n",
       "    }\n",
       "\n",
       "    .dataframe thead tr th {\n",
       "        text-align: left;\n",
       "    }\n",
       "\n",
       "    .dataframe thead tr:last-of-type th {\n",
       "        text-align: right;\n",
       "    }\n",
       "</style>\n",
       "<table border=\"1\" class=\"dataframe\">\n",
       "  <thead>\n",
       "    <tr>\n",
       "      <th></th>\n",
       "      <th>mean</th>\n",
       "      <th>std</th>\n",
       "    </tr>\n",
       "    <tr>\n",
       "      <th></th>\n",
       "      <th>Value</th>\n",
       "      <th>Value</th>\n",
       "    </tr>\n",
       "    <tr>\n",
       "      <th>Metric</th>\n",
       "      <th></th>\n",
       "      <th></th>\n",
       "    </tr>\n",
       "  </thead>\n",
       "  <tbody>\n",
       "    <tr>\n",
       "      <th>AUC</th>\n",
       "      <td>0.993813</td>\n",
       "      <td>0.000227</td>\n",
       "    </tr>\n",
       "    <tr>\n",
       "      <th>Accuracy</th>\n",
       "      <td>0.967190</td>\n",
       "      <td>0.000723</td>\n",
       "    </tr>\n",
       "    <tr>\n",
       "      <th>F1-Score</th>\n",
       "      <td>0.981090</td>\n",
       "      <td>0.000409</td>\n",
       "    </tr>\n",
       "    <tr>\n",
       "      <th>Precision</th>\n",
       "      <td>0.989059</td>\n",
       "      <td>0.000922</td>\n",
       "    </tr>\n",
       "    <tr>\n",
       "      <th>Recall</th>\n",
       "      <td>0.973248</td>\n",
       "      <td>0.000366</td>\n",
       "    </tr>\n",
       "  </tbody>\n",
       "</table>\n",
       "</div>"
      ],
      "text/plain": [
       "               mean       std\n",
       "              Value     Value\n",
       "Metric                       \n",
       "AUC        0.993813  0.000227\n",
       "Accuracy   0.967190  0.000723\n",
       "F1-Score   0.981090  0.000409\n",
       "Precision  0.989059  0.000922\n",
       "Recall     0.973248  0.000366"
      ]
     },
     "execution_count": 27,
     "metadata": {},
     "output_type": "execute_result"
    }
   ],
   "source": [
    "if not pd.api.types.is_numeric_dtype(df_metrics['Value']):\n",
    "    df_metrics['Value'] = pd.to_numeric(df_metrics['Value'], errors='coerce')\n",
    "\n",
    "pivot_table = df_metrics.pivot_table(index=\"Metric\", values=\"Value\", aggfunc=[\"mean\", \"std\"])\n",
    "df_metrics.pivot_table(index=\"Metric\", values=\"Value\", aggfunc=[\"mean\", \"std\"])\n"
   ]
  },
  {
   "cell_type": "code",
   "execution_count": 28,
   "metadata": {},
   "outputs": [
    {
     "data": {
      "text/plain": [
       "<AxesSubplot:title={'center':'Value'}, xlabel='Metric'>"
      ]
     },
     "execution_count": 28,
     "metadata": {},
     "output_type": "execute_result"
    },
    {
     "data": {
      "image/png": "[encoded data removed]",
      "text/plain": [
       "<Figure size 432x288 with 1 Axes>"
      ]
     },
     "metadata": {
      "needs_background": "light"
     },
     "output_type": "display_data"
    }
   ],
   "source": [
    "df_metrics.boxplot(column='Value', by='Metric')"
   ]
  },
  {
   "cell_type": "code",
   "execution_count": 29,
   "metadata": {},
   "outputs": [
    {
     "name": "stdout",
     "output_type": "stream",
     "text": [
      "\n",
      "MALE/FEMALE:\n"
     ]
    },
    {
     "data": {
      "text/html": [
       "<div>\n",
       "<style scoped>\n",
       "    .dataframe tbody tr th:only-of-type {\n",
       "        vertical-align: middle;\n",
       "    }\n",
       "\n",
       "    .dataframe tbody tr th {\n",
       "        vertical-align: top;\n",
       "    }\n",
       "\n",
       "    .dataframe thead th {\n",
       "        text-align: right;\n",
       "    }\n",
       "</style>\n",
       "<table border=\"1\" class=\"dataframe\">\n",
       "  <thead>\n",
       "    <tr style=\"text-align: right;\">\n",
       "      <th></th>\n",
       "      <th>mean</th>\n",
       "      <th>std</th>\n",
       "    </tr>\n",
       "    <tr>\n",
       "      <th>Metric</th>\n",
       "      <th></th>\n",
       "      <th></th>\n",
       "    </tr>\n",
       "  </thead>\n",
       "  <tbody>\n",
       "    <tr>\n",
       "      <th>Equal Opportunity Difference</th>\n",
       "      <td>0.003062</td>\n",
       "      <td>0.001842</td>\n",
       "    </tr>\n",
       "    <tr>\n",
       "      <th>Equalised Odds</th>\n",
       "      <td>-0.006750</td>\n",
       "      <td>0.005514</td>\n",
       "    </tr>\n",
       "    <tr>\n",
       "      <th>False Positive Rate Balance</th>\n",
       "      <td>-0.016561</td>\n",
       "      <td>0.010013</td>\n",
       "    </tr>\n",
       "    <tr>\n",
       "      <th>Predictive Parity Difference</th>\n",
       "      <td>0.003192</td>\n",
       "      <td>0.001464</td>\n",
       "    </tr>\n",
       "    <tr>\n",
       "      <th>Statistical Parity Difference</th>\n",
       "      <td>-0.030415</td>\n",
       "      <td>0.062084</td>\n",
       "    </tr>\n",
       "  </tbody>\n",
       "</table>\n",
       "</div>"
      ],
      "text/plain": [
       "                                   mean       std\n",
       "Metric                                           \n",
       "Equal Opportunity Difference   0.003062  0.001842\n",
       "Equalised Odds                -0.006750  0.005514\n",
       "False Positive Rate Balance   -0.016561  0.010013\n",
       "Predictive Parity Difference   0.003192  0.001464\n",
       "Statistical Parity Difference -0.030415  0.062084"
      ]
     },
     "execution_count": 29,
     "metadata": {},
     "output_type": "execute_result"
    }
   ],
   "source": [
    "print(\"\\nMALE/FEMALE:\")\n",
    "sex_summary"
   ]
  },
  {
   "cell_type": "code",
   "execution_count": null,
   "metadata": {},
   "outputs": [],
   "source": [
    "\n",
    "explainer = shap.TreeExplainer(lgb_model, X_train)\n",
    "shap_values = explainer.shap_values(X_train)\n",
    "shap.summary_plot(shap_values, X_train, plot_type=\"bar\")"
   ]
  }
 ],
 "metadata": {
  "kernelspec": {
   "display_name": "Python 3.9.12 ('base')",
   "language": "python",
   "name": "python3"
  },
  "language_info": {
   "codemirror_mode": {
    "name": "ipython",
    "version": 3
   },
   "file_extension": ".py",
   "mimetype": "text/x-python",
   "name": "python",
   "nbconvert_exporter": "python",
   "pygments_lexer": "ipython3",
   "version": "3.9.12"
  },
  "vscode": {
   "interpreter": {
    "hash": "ad2bdc8ecc057115af97d19610ffacc2b4e99fae6737bb82f5d7fb13d2f2c186"
   }
  }
 },
 "nbformat": 4,
 "nbformat_minor": 4
}
